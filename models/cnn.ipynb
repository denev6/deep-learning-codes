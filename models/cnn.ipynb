{
  "cells": [
    {
      "cell_type": "code",
      "execution_count": 1,
      "metadata": {
        "colab": {
          "base_uri": "https://localhost:8080/"
        },
        "id": "jdI4496Oi5le",
        "outputId": "f00b503d-a42a-46ee-feca-d85d49c49c0c"
      },
      "outputs": [
        {
          "name": "stdout",
          "output_type": "stream",
          "text": [
            "Requirement already satisfied: torchsummary in /usr/local/lib/python3.11/dist-packages (1.5.1)\n"
          ]
        }
      ],
      "source": [
        "!pip install torchsummary"
      ]
    },
    {
      "cell_type": "markdown",
      "metadata": {
        "id": "1pzHbJmEgB0T"
      },
      "source": [
        "# CNN 살펴보기\n",
        "\n",
        "설명: [BLOG](https://denev6.github.io/computer-vision/2022/12/15/cnn.html)"
      ]
    },
    {
      "cell_type": "code",
      "execution_count": 2,
      "metadata": {
        "id": "Cz95IbIgaQyI"
      },
      "outputs": [],
      "source": [
        "import torch\n",
        "import torch.nn as nn\n",
        "import torch.nn.functional as F\n",
        "import torchvision.datasets as datasets\n",
        "import torchvision.transforms as transforms\n",
        "from torchsummary import summary\n",
        "import matplotlib.pyplot as plt\n",
        "\n",
        "import warnings\n",
        "from google.colab import drive"
      ]
    },
    {
      "cell_type": "code",
      "execution_count": 3,
      "metadata": {
        "colab": {
          "base_uri": "https://localhost:8080/"
        },
        "id": "0DFNEI_IdzGt",
        "outputId": "bde2664f-9c0b-4a50-ed9f-f82940f21a76"
      },
      "outputs": [
        {
          "name": "stdout",
          "output_type": "stream",
          "text": [
            "Drive already mounted at /content/drive; to attempt to forcibly remount, call drive.mount(\"/content/drive\", force_remount=True).\n"
          ]
        }
      ],
      "source": [
        "drive.mount(\"/content/drive\")\n",
        "warnings.filterwarnings(\"ignore\")\n",
        "device = \"cuda\" if torch.cuda.is_available() else \"cpu\"\n",
        "\n",
        "data_path = \"/content/drive/MyDrive/MNIST\"\n",
        "learning_rate = 0.001\n",
        "training_epochs = 5\n",
        "batch_size = 64"
      ]
    },
    {
      "cell_type": "markdown",
      "metadata": {
        "id": "vvrSe1oGcoe2"
      },
      "source": [
        "## Dataset"
      ]
    },
    {
      "cell_type": "code",
      "execution_count": 4,
      "metadata": {
        "id": "Jd668LWGd01N"
      },
      "outputs": [],
      "source": [
        "mnist_train = datasets.MNIST(\n",
        "    root=data_path, train=True, transform=transforms.ToTensor(), download=True\n",
        ")\n",
        "mnist_test = datasets.MNIST(\n",
        "    root=data_path, train=False, transform=transforms.ToTensor(), download=True\n",
        ")\n",
        "\n",
        "data_loader = torch.utils.data.DataLoader(\n",
        "    dataset=mnist_train, batch_size=batch_size, shuffle=False\n",
        ")"
      ]
    },
    {
      "cell_type": "code",
      "execution_count": 5,
      "metadata": {
        "colab": {
          "base_uri": "https://localhost:8080/"
        },
        "id": "FO_wO7yLnvzi",
        "outputId": "84c98b6e-5351-4204-b34e-13aca9d4c01f"
      },
      "outputs": [
        {
          "name": "stdout",
          "output_type": "stream",
          "text": [
            "X torch.Size([60000, 28, 28])\n",
            "y torch.Size([60000])\n"
          ]
        }
      ],
      "source": [
        "print(\"X\", mnist_train.train_data.size())\n",
        "print(\"y\", mnist_train.train_labels.size())"
      ]
    },
    {
      "cell_type": "markdown",
      "metadata": {
        "id": "zXM3rNbgcqaK"
      },
      "source": [
        "## Model"
      ]
    },
    {
      "cell_type": "code",
      "execution_count": 6,
      "metadata": {
        "id": "5XYPmif7d22I"
      },
      "outputs": [],
      "source": [
        "class CNN(nn.Module):\n",
        "    def __init__(self, num_label=10):\n",
        "        super(CNN, self).__init__()\n",
        "        self.conv1 = nn.Sequential(\n",
        "            nn.Conv2d(1, 16, kernel_size=3),\n",
        "            nn.ReLU(),\n",
        "            nn.MaxPool2d(kernel_size=2, stride=2, padding=1)\n",
        "            #       Input =  (-1,  1, 28, 28)\n",
        "            # Conv + ReLU -> (-1, 16, 26, 26)\n",
        "            #        Pool -> (-1, 16, 14, 14)\n",
        "        )\n",
        "\n",
        "        self.conv2 = nn.Sequential(\n",
        "            nn.Conv2d(16, 32, kernel_size=3),\n",
        "            nn.ReLU(),\n",
        "            nn.MaxPool2d(kernel_size=2, stride=2, padding=1)\n",
        "            #       Input =  (-1, 16, 14, 14)\n",
        "            # Conv + ReLU -> (-1, 32, 12, 12)\n",
        "            #        Pool -> (-1, 32,  7,  7)\n",
        "        )\n",
        "\n",
        "        self.classifier = nn.Sequential(\n",
        "            nn.Flatten(1, -1),\n",
        "            nn.Linear(7 * 7 * 32, 32),\n",
        "            nn.ReLU(),\n",
        "            nn.Dropout(p=0.3),\n",
        "            nn.Linear(32, num_label)\n",
        "            #          Input =  (-1, 32, 7, 7)\n",
        "            #        Flatten -> (-1,     1568)\n",
        "            #         Linear -> (-1,       32)\n",
        "            # ReLU + Dropout -> (-1,       32)\n",
        "            #         Output -> (-1,       10)\n",
        "        )\n",
        "\n",
        "    def forward(self, x):\n",
        "        out = self.conv1(x)\n",
        "        out = self.conv2(out)\n",
        "        out = self.classifier(out)\n",
        "        return out"
      ]
    },
    {
      "cell_type": "code",
      "execution_count": 7,
      "metadata": {
        "colab": {
          "base_uri": "https://localhost:8080/"
        },
        "id": "1w2Z9EPEdKgX",
        "outputId": "e4ac5ea5-1432-44e2-b0b1-c889711ae753"
      },
      "outputs": [
        {
          "data": {
            "text/plain": [
              "CNN(\n",
              "  (conv1): Sequential(\n",
              "    (0): Conv2d(1, 16, kernel_size=(3, 3), stride=(1, 1))\n",
              "    (1): ReLU()\n",
              "    (2): MaxPool2d(kernel_size=2, stride=2, padding=1, dilation=1, ceil_mode=False)\n",
              "  )\n",
              "  (conv2): Sequential(\n",
              "    (0): Conv2d(16, 32, kernel_size=(3, 3), stride=(1, 1))\n",
              "    (1): ReLU()\n",
              "    (2): MaxPool2d(kernel_size=2, stride=2, padding=1, dilation=1, ceil_mode=False)\n",
              "  )\n",
              "  (classifier): Sequential(\n",
              "    (0): Flatten(start_dim=1, end_dim=-1)\n",
              "    (1): Linear(in_features=1568, out_features=32, bias=True)\n",
              "    (2): ReLU()\n",
              "    (3): Dropout(p=0.3, inplace=False)\n",
              "    (4): Linear(in_features=32, out_features=10, bias=True)\n",
              "  )\n",
              ")"
            ]
          },
          "execution_count": 7,
          "metadata": {},
          "output_type": "execute_result"
        }
      ],
      "source": [
        "model = CNN()\n",
        "model.to(device)"
      ]
    },
    {
      "cell_type": "code",
      "execution_count": 8,
      "metadata": {
        "colab": {
          "base_uri": "https://localhost:8080/"
        },
        "id": "QYajyWP5dMU0",
        "outputId": "a15083fd-4e8f-4ca8-c413-799c9dcfd43a"
      },
      "outputs": [
        {
          "name": "stdout",
          "output_type": "stream",
          "text": [
            "----------------------------------------------------------------\n",
            "        Layer (type)               Output Shape         Param #\n",
            "================================================================\n",
            "            Conv2d-1           [-1, 16, 26, 26]             160\n",
            "              ReLU-2           [-1, 16, 26, 26]               0\n",
            "         MaxPool2d-3           [-1, 16, 14, 14]               0\n",
            "            Conv2d-4           [-1, 32, 12, 12]           4,640\n",
            "              ReLU-5           [-1, 32, 12, 12]               0\n",
            "         MaxPool2d-6             [-1, 32, 7, 7]               0\n",
            "           Flatten-7                 [-1, 1568]               0\n",
            "            Linear-8                   [-1, 32]          50,208\n",
            "              ReLU-9                   [-1, 32]               0\n",
            "          Dropout-10                   [-1, 32]               0\n",
            "           Linear-11                   [-1, 10]             330\n",
            "================================================================\n",
            "Total params: 55,338\n",
            "Trainable params: 55,338\n",
            "Non-trainable params: 0\n",
            "----------------------------------------------------------------\n",
            "Input size (MB): 0.00\n",
            "Forward/backward pass size (MB): 0.28\n",
            "Params size (MB): 0.21\n",
            "Estimated Total Size (MB): 0.50\n",
            "----------------------------------------------------------------\n"
          ]
        }
      ],
      "source": [
        "summary(model, (1, 28, 28))"
      ]
    },
    {
      "cell_type": "markdown",
      "metadata": {
        "id": "p3XVnERqctDE"
      },
      "source": [
        "### Train"
      ]
    },
    {
      "cell_type": "code",
      "execution_count": 9,
      "metadata": {
        "colab": {
          "base_uri": "https://localhost:8080/"
        },
        "id": "kmlLlfOVd5GR",
        "outputId": "58028fce-8eee-45ab-c823-d17fe86da63e"
      },
      "outputs": [
        {
          "data": {
            "text/plain": [
              "CrossEntropyLoss()"
            ]
          },
          "execution_count": 9,
          "metadata": {},
          "output_type": "execute_result"
        }
      ],
      "source": [
        "criterion = torch.nn.CrossEntropyLoss()\n",
        "optimizer = torch.optim.Adam(model.parameters(), lr=learning_rate)\n",
        "\n",
        "criterion.to(device)"
      ]
    },
    {
      "cell_type": "code",
      "execution_count": 10,
      "metadata": {
        "colab": {
          "base_uri": "https://localhost:8080/"
        },
        "id": "A3HcuulgZQHf",
        "outputId": "a63281a6-5be3-4c54-e823-2f2ec933e9f9"
      },
      "outputs": [
        {
          "name": "stdout",
          "output_type": "stream",
          "text": [
            "Epoch: 1, Train Loss: 0.47971\n",
            "Epoch: 2, Train Loss: 0.20903\n",
            "Epoch: 3, Train Loss: 0.16588\n",
            "Epoch: 4, Train Loss: 0.14209\n",
            "Epoch: 5, Train Loss: 0.12418\n"
          ]
        }
      ],
      "source": [
        "for epoch in range(1, training_epochs + 1):\n",
        "    train_loss = 0\n",
        "    model.train()\n",
        "    for X, y in data_loader:\n",
        "        X = X.to(device)\n",
        "        y = y.to(device)\n",
        "\n",
        "        pred = model(X)\n",
        "        loss = criterion(pred, y)\n",
        "\n",
        "        loss.backward()\n",
        "        optimizer.step()\n",
        "        optimizer.zero_grad()\n",
        "\n",
        "        train_loss += loss\n",
        "\n",
        "    train_loss /= len(data_loader)\n",
        "\n",
        "    print(f\"Epoch: {epoch}, Train Loss: {train_loss:.5f}\")"
      ]
    },
    {
      "cell_type": "markdown",
      "metadata": {
        "id": "j3ksFZAtcvS8"
      },
      "source": [
        "### Test"
      ]
    },
    {
      "cell_type": "code",
      "execution_count": 11,
      "metadata": {
        "colab": {
          "base_uri": "https://localhost:8080/"
        },
        "id": "vBY1dUR9ZSNe",
        "outputId": "c3bd9637-7630-4216-a388-df64a54817e3"
      },
      "outputs": [
        {
          "name": "stdout",
          "output_type": "stream",
          "text": [
            "Accuracy: 0.98480\n"
          ]
        }
      ],
      "source": [
        "with torch.no_grad():\n",
        "    model.eval()\n",
        "    test_set = mnist_test.test_data.view(len(mnist_test), 1, 28, 28).float().to(device)\n",
        "    labels = mnist_test.test_labels.to(device)\n",
        "\n",
        "    pred = model(test_set)\n",
        "    correct = pred.argmax(-1) == labels\n",
        "    accuracy = correct.float().mean()\n",
        "    print(f\"Accuracy: {accuracy.item():.5f}\")"
      ]
    },
    {
      "cell_type": "code",
      "execution_count": 12,
      "metadata": {
        "id": "qBAtRInId630"
      },
      "outputs": [],
      "source": [
        "torch.save(model.state_dict(), \"/content/drive/MyDrive/MNIST/cnn.pth\")"
      ]
    },
    {
      "cell_type": "markdown",
      "metadata": {
        "id": "96ZKIq5Bcxoi"
      },
      "source": [
        "## Experiments"
      ]
    },
    {
      "cell_type": "code",
      "execution_count": 13,
      "metadata": {
        "id": "2wjDb5Tfjj3S"
      },
      "outputs": [],
      "source": [
        "images, labels = next(iter(data_loader))\n",
        "\n",
        "feature_maps = []\n",
        "\n",
        "def hook_features(module, input, output):\n",
        "    feature_maps.append(output)\n",
        "\n",
        "feature_hook = model.conv1.register_forward_hook(hook_features)\n",
        "\n",
        "with torch.no_grad():\n",
        "    output = model(images.to(device))\n",
        "\n",
        "feature_hook.remove()"
      ]
    },
    {
      "cell_type": "code",
      "execution_count": 14,
      "metadata": {
        "colab": {
          "base_uri": "https://localhost:8080/",
          "height": 430
        },
        "id": "Zvvrl1JJvY__",
        "outputId": "6ebf1fee-f524-4207-8b4f-124e956d0994"
      },
      "outputs": [
        {
          "data": {
            "image/png": "[encoded data removed]",
            "text/plain": [
              "<Figure size 640x480 with 1 Axes>"
            ]
          },
          "metadata": {},
          "output_type": "display_data"
        }
      ],
      "source": [
        "image_idx = 0\n",
        "plt.imshow(images[image_idx].reshape(28, 28), cmap=\"gray\")\n",
        "plt.show()"
      ]
    },
    {
      "cell_type": "markdown",
      "metadata": {},
      "source": [
        "### Feature maps"
      ]
    },
    {
      "cell_type": "code",
      "execution_count": 15,
      "metadata": {
        "colab": {
          "base_uri": "https://localhost:8080/"
        },
        "id": "h83bJ4uGlPdc",
        "outputId": "6c2b586f-2fcc-4da5-f6cf-60b2ea43a87e"
      },
      "outputs": [
        {
          "data": {
            "text/plain": [
              "torch.Size([64, 16, 14, 14])"
            ]
          },
          "execution_count": 15,
          "metadata": {},
          "output_type": "execute_result"
        }
      ],
      "source": [
        "feature_map = feature_maps[-1]\n",
        "feature_map.shape"
      ]
    },
    {
      "cell_type": "code",
      "execution_count": 16,
      "metadata": {
        "colab": {
          "base_uri": "https://localhost:8080/",
          "height": 499
        },
        "id": "dd49nBaVVn-Z",
        "outputId": "75ea18ee-5c32-4bbb-cabc-45ff1f3e3c56"
      },
      "outputs": [
        {
          "data": {
            "image/png": "[encoded data removed]",
            "text/plain": [
              "<Figure size 600x600 with 16 Axes>"
            ]
          },
          "metadata": {},
          "output_type": "display_data"
        }
      ],
      "source": [
        "feat = feature_map[image_idx].detach().cpu().numpy()\n",
        "\n",
        "plt.figure(figsize=(6, 6))\n",
        "for i in range(16):\n",
        "    plt.subplot(4, 4, i + 1)\n",
        "    plt.imshow(feat[i].reshape(14, 14))\n",
        "    plt.xticks([])\n",
        "    plt.yticks([])\n",
        "plt.show()"
      ]
    },
    {
      "cell_type": "markdown",
      "metadata": {},
      "source": [
        "### Output"
      ]
    },
    {
      "cell_type": "code",
      "execution_count": 17,
      "metadata": {
        "colab": {
          "base_uri": "https://localhost:8080/"
        },
        "id": "IUsMptwEVjaK",
        "outputId": "ded5a0c5-0f96-4bc1-cdbc-e180d470ac38"
      },
      "outputs": [
        {
          "data": {
            "text/plain": [
              "torch.Size([64, 10])"
            ]
          },
          "execution_count": 17,
          "metadata": {},
          "output_type": "execute_result"
        }
      ],
      "source": [
        "output.size()"
      ]
    },
    {
      "cell_type": "code",
      "execution_count": 18,
      "metadata": {
        "colab": {
          "base_uri": "https://localhost:8080/"
        },
        "id": "U-mptcLVXHnw",
        "outputId": "c795ae5b-9770-4162-9929-942dbc665219"
      },
      "outputs": [
        {
          "name": "stdout",
          "output_type": "stream",
          "text": [
            "Logits: -15.903, -4.353, -6.922, 10.732, -8.487, 12.493, -9.373, -8.306, 1.643, 0.987\n",
            "Probs: 0.000, 0.000, 0.000, 0.147, 0.000, 0.853, 0.000, 0.000, 0.000, 0.000\n",
            "Pred: 5\n",
            "True: 5\n"
          ]
        }
      ],
      "source": [
        "output = output[image_idx]\n",
        "probs = F.softmax(output)\n",
        "pred = probs.argmax(-1)\n",
        "\n",
        "print(\n",
        "    \"Logits:\",\n",
        "    \", \".join(map(lambda x: f\"{x:.3f}\", output.detach().cpu().numpy().tolist())),\n",
        ")\n",
        "print(\n",
        "    \"Probs:\",\n",
        "    \", \".join(map(lambda x: f\"{x:.3f}\", probs.detach().cpu().numpy().tolist())),\n",
        ")\n",
        "print(\"Pred:\", pred.detach().cpu().numpy().tolist())\n",
        "print(\"True:\", labels[image_idx].numpy().tolist())"
      ]
    },
    {
      "cell_type": "markdown",
      "metadata": {
        "id": "NT2Pxh4tdsfp"
      },
      "source": [
        "### Filters"
      ]
    },
    {
      "cell_type": "code",
      "execution_count": 19,
      "metadata": {
        "colab": {
          "base_uri": "https://localhost:8080/"
        },
        "id": "huDNw6Qom8iF",
        "outputId": "b62c86b4-aeeb-4bee-b0c1-b6907693fa66"
      },
      "outputs": [
        {
          "data": {
            "text/plain": [
              "torch.Size([16, 1, 3, 3])"
            ]
          },
          "execution_count": 19,
          "metadata": {},
          "output_type": "execute_result"
        }
      ],
      "source": [
        "filters = model.conv1[0].weight.data\n",
        "filters.size()"
      ]
    },
    {
      "cell_type": "code",
      "execution_count": 20,
      "metadata": {
        "colab": {
          "base_uri": "https://localhost:8080/",
          "height": 499
        },
        "id": "n8I6_0lYvOTZ",
        "outputId": "ca3c64a5-0c58-4f02-af75-78df7b232f09"
      },
      "outputs": [
        {
          "data": {
            "image/png": "[encoded data removed]",
            "text/plain": [
              "<Figure size 600x600 with 16 Axes>"
            ]
          },
          "metadata": {},
          "output_type": "display_data"
        }
      ],
      "source": [
        "filters = filters.view(16, 3, 3).detach().cpu().numpy()\n",
        "\n",
        "plt.figure(figsize=(6, 6))\n",
        "for i in range(16):\n",
        "    plt.subplot(4, 4, i + 1)\n",
        "    plt.imshow(filters[i], cmap=\"gray\")\n",
        "    plt.xticks([])\n",
        "    plt.yticks([])\n",
        "plt.show()"
      ]
    }
  ],
  "metadata": {
    "accelerator": "GPU",
    "colab": {
      "gpuClass": "premium",
      "machine_shape": "hm",
      "provenance": [],
      "toc_visible": true
    },
    "gpuClass": "premium",
    "kernelspec": {
      "display_name": "Python 3",
      "name": "python3"
    },
    "language_info": {
      "name": "python"
    }
  },
  "nbformat": 4,
  "nbformat_minor": 0
}
