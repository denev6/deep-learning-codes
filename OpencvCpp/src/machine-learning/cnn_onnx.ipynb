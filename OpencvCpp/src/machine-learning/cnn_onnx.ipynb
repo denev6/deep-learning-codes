{
 "cells": [
  {
   "cell_type": "markdown",
   "metadata": {},
   "source": [
    "# CNN to ONNX\n",
    "\n",
    "> CNN with torch: [denev6/deep-learning-codes](https://github.com/denev6/deep-learning-codes/blob/main/cnn_mnist.ipynb)\n",
    "\n",
    "- learning_rate = 0.003\n",
    "- epochs = 5\n",
    "- batch_size = 64\n",
    "\n",
    "```text\n",
    "CNN(\n",
    "  (conv1): Sequential(\n",
    "    (0): Conv2d(1, 16, kernel_size=(3, 3), stride=(1, 1))\n",
    "    (1): ReLU()\n",
    "    (2): MaxPool2d(kernel_size=2, stride=2, padding=1, dilation=1, ceil_mode=False)\n",
    "  )\n",
    "  (conv2): Sequential(\n",
    "    (0): Conv2d(16, 32, kernel_size=(3, 3), stride=(1, 1))\n",
    "    (1): ReLU()\n",
    "    (2): MaxPool2d(kernel_size=2, stride=2, padding=1, dilation=1, ceil_mode=False)\n",
    "  )\n",
    "  (classifier): Sequential(\n",
    "    (0): Flatten(start_dim=1, end_dim=-1)\n",
    "    (1): Linear(in_features=1568, out_features=32, bias=True)\n",
    "    (2): ReLU()\n",
    "    (3): Dropout(p=0.3, inplace=False)\n",
    "    (4): Linear(in_features=32, out_features=10, bias=True)\n",
    "  )\n",
    ")\n",
    "```\n",
    "\n",
    "Accuracy: 0.98390"
   ]
  },
  {
   "cell_type": "markdown",
   "metadata": {
    "id": "r-yVbrSNLm_M"
   },
   "source": [
    "## Save as ONNX"
   ]
  },
  {
   "cell_type": "code",
   "execution_count": 10,
   "metadata": {
    "executionInfo": {
     "elapsed": 537,
     "status": "ok",
     "timestamp": 1736814993061,
     "user": {
      "displayName": "박성진",
      "userId": "14717233518650621978"
     },
     "user_tz": -540
    },
    "id": "BIJHPzqaK5Od"
   },
   "outputs": [],
   "source": [
    "model.cpu()\n",
    "params = model.state_dict()\n",
    "torch.save(params, f\"{model_path}net.prm\", pickle_protocol=4)"
   ]
  },
  {
   "cell_type": "code",
   "execution_count": 12,
   "metadata": {
    "executionInfo": {
     "elapsed": 356,
     "status": "ok",
     "timestamp": 1736815018633,
     "user": {
      "displayName": "박성진",
      "userId": "14717233518650621978"
     },
     "user_tz": -540
    },
    "id": "A71nc-1DMFxV"
   },
   "outputs": [],
   "source": [
    "import torch.onnx\n",
    "\n",
    "onnx_path = model_path + \"cnn.onnx\"\n",
    "dummy_input = torch.empty(1, 1, 28, 28, dtype=torch.float32)\n",
    "torch.onnx.export(model, dummy_input, onnx_path,\n",
    "        input_names=[\"input\"], output_names=[\"output\"])"
   ]
  },
  {
   "cell_type": "code",
   "execution_count": 13,
   "metadata": {
    "executionInfo": {
     "elapsed": 330,
     "status": "ok",
     "timestamp": 1736815023046,
     "user": {
      "displayName": "박성진",
      "userId": "14717233518650621978"
     },
     "user_tz": -540
    },
    "id": "H_FokgtwNFP-"
   },
   "outputs": [],
   "source": [
    "import onnx\n",
    "\n",
    "onnx_model = onnx.load(onnx_path)\n",
    "onnx.save(onnx.shape_inference.infer_shapes(onnx_model), onnx_path)"
   ]
  }
 ],
 "metadata": {
  "accelerator": "GPU",
  "colab": {
   "gpuClass": "premium",
   "gpuType": "T4",
   "provenance": [
    {
     "file_id": "https://github.com/denev6/deep-learning-codes/blob/main/cnn_mnist.ipynb",
     "timestamp": 1736813867433
    }
   ]
  },
  "kernelspec": {
   "display_name": "Python 3",
   "name": "python3"
  },
  "language_info": {
   "name": "python"
  }
 },
 "nbformat": 4,
 "nbformat_minor": 0
}
