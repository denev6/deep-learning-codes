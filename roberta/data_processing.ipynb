{
  "cells": [
    {
      "cell_type": "markdown",
      "metadata": {
        "id": "view-in-github",
        "colab_type": "text"
      },
      "source": [
        "<a href=\"https://colab.research.google.com/github/Denev6/practice/blob/main/transformer/data_processing.ipynb\" target=\"_parent\"><img src=\"https://colab.research.google.com/assets/colab-badge.svg\" alt=\"Open In Colab\"/></a>"
      ]
    },
    {
      "cell_type": "code",
      "execution_count": null,
      "metadata": {
        "colab": {
          "base_uri": "https://localhost:8080/"
        },
        "id": "Kt9LGLSXyZpq",
        "outputId": "afcc4096-7975-497a-d4b8-caa3b5da0228"
      },
      "outputs": [
        {
          "output_type": "stream",
          "name": "stdout",
          "text": [
            "Python 3.8.15\n"
          ]
        }
      ],
      "source": [
        "!python --version"
      ]
    },
    {
      "cell_type": "code",
      "execution_count": null,
      "metadata": {
        "id": "_qXlXpiWjwG8"
      },
      "outputs": [],
      "source": [
        "!pip install transformers\n",
        "\n",
        "import nltk\n",
        "\n",
        "nltk.download(\n",
        "    [\"punkt\", \"wordnet\", \"omw-1.4\", \"averaged_perceptron_tagger\", \"stopwords\"]\n",
        ")"
      ]
    },
    {
      "cell_type": "code",
      "execution_count": null,
      "metadata": {
        "id": "SskIfXoWvyS_"
      },
      "outputs": [],
      "source": [
        "import os\n",
        "import re\n",
        "\n",
        "import numpy as np\n",
        "import pandas as pd\n",
        "import matplotlib.pyplot as plt\n",
        "from torch.utils.data import DataLoader, Dataset\n",
        "import nltk.corpus\n",
        "from nltk import pos_tag\n",
        "from nltk.tokenize import TweetTokenizer\n",
        "from nltk.stem.wordnet import WordNetLemmatizer\n",
        "from sklearn.model_selection import train_test_split\n",
        "from transformers import RobertaTokenizerFast, RobertaForSequenceClassification\n",
        "from google.colab import drive\n",
        "\n",
        "drive.mount(\"/content/drive\")"
      ]
    },
    {
      "cell_type": "markdown",
      "source": [
        "# Dataset"
      ],
      "metadata": {
        "id": "0n9ygT8fssEX"
      }
    },
    {
      "cell_type": "code",
      "execution_count": null,
      "metadata": {
        "id": "yxt4Qhjiq0cS",
        "colab": {
          "base_uri": "https://localhost:8080/"
        },
        "outputId": "1b56133f-b1ae-4fd1-b526-9efe11fb961d"
      },
      "outputs": [
        {
          "output_type": "stream",
          "name": "stdout",
          "text": [
            "[Columns]\n",
            "ID, Utterance, Speaker, Dialogue_ID, Target\n"
          ]
        }
      ],
      "source": [
        "TRAIN_CSV = os.path.join(\"/content/drive/MyDrive\", \"data\", \"train.csv\")\n",
        "train_csv = pd.read_csv(TRAIN_CSV)\n",
        "utter = train_csv[\"Utterance\"]\n",
        "\n",
        "print(\"[Columns]\")\n",
        "print(*train_csv.columns.values, sep=\", \")"
      ]
    },
    {
      "cell_type": "code",
      "source": [
        "targets = train_csv[\"Target\"].value_counts()\n",
        "\n",
        "for label, value in zip(targets.index, targets.values):\n",
        "    plt.bar(label, value)\n",
        "plt.title(\"Targets\")\n",
        "plt.ylabel(\"count\")\n",
        "plt.show()"
      ],
      "metadata": {
        "colab": {
          "base_uri": "https://localhost:8080/",
          "height": 281
        },
        "id": "IeOHNrR8mN8G",
        "outputId": "acc9b91e-0349-4d14-f0a4-827c6be92600"
      },
      "execution_count": null,
      "outputs": [
        {
          "output_type": "display_data",
          "data": {
            "text/plain": [
              "<Figure size 432x288 with 1 Axes>"
            ],
            "image/png": "[encoded data removed]"
          },
          "metadata": {
            "needs_background": "light"
          }
        }
      ]
    },
    {
      "cell_type": "code",
      "execution_count": null,
      "metadata": {
        "colab": {
          "base_uri": "https://localhost:8080/"
        },
        "id": "k5xgJ1I9rCrX",
        "outputId": "af062348-0c3e-4e56-fde5-3e3a23190721"
      },
      "outputs": [
        {
          "output_type": "stream",
          "name": "stdout",
          "text": [
            "[Special symbols]\n",
            " ' ? * % . “ ’ & / — \" : ‘ , – - ” … $ !   ] ( ; [ \n"
          ]
        }
      ],
      "source": [
        "res = list()\n",
        "\n",
        "for sent in utter.tolist():\n",
        "    marks = re.findall(r\"\\W\", sent)\n",
        "    res += marks\n",
        "\n",
        "print(\"[Special symbols]\")\n",
        "print(f\" {' '.join(set(res))} \")"
      ]
    },
    {
      "cell_type": "code",
      "execution_count": null,
      "metadata": {
        "colab": {
          "base_uri": "https://localhost:8080/"
        },
        "id": "C03ZpbwxrpQK",
        "outputId": "5dd00204-20ac-42d8-d4a6-c41e50d41f88"
      },
      "outputs": [
        {
          "output_type": "stream",
          "name": "stdout",
          "text": [
            "[Word count]\n",
            "1 2 3 4 5 ... 41 42 44 48 69 \n",
            "\n",
            "- Median: 6.00\n",
            "- Mean: 7.95\n"
          ]
        }
      ],
      "source": [
        "sents = utter.map(lambda sent: str(sent).split()).map(len).tolist()\n",
        "count = list(set(sents))\n",
        "count.sort()\n",
        "\n",
        "print(\"[Word count]\")\n",
        "for len_ in count[:5]:\n",
        "    print(len_, end=\" \")\n",
        "print(\"... \", end=\"\")\n",
        "for len_ in count[-5:]:\n",
        "    print(len_, end=\" \")\n",
        "\n",
        "print(\"\\n\")\n",
        "print(f\"- Median: {np.median(sents):.2f}\")\n",
        "print(f\"- Mean: {np.mean(sents):.2f}\")"
      ]
    },
    {
      "cell_type": "code",
      "source": [
        "plt.hist(sents, bins=20)\n",
        "plt.title(\"Word count\")\n",
        "plt.ylabel(\"count\")\n",
        "plt.show()"
      ],
      "metadata": {
        "colab": {
          "base_uri": "https://localhost:8080/",
          "height": 281
        },
        "id": "JdNz9RG1lUJk",
        "outputId": "ad1cf50c-ee28-49e0-f7c5-3214173f273b"
      },
      "execution_count": null,
      "outputs": [
        {
          "output_type": "display_data",
          "data": {
            "text/plain": [
              "<Figure size 432x288 with 1 Axes>"
            ],
            "image/png": "[encoded data removed]"
          },
          "metadata": {
            "needs_background": "light"
          }
        }
      ]
    },
    {
      "cell_type": "markdown",
      "metadata": {
        "id": "ftQ5vdDJq1ly"
      },
      "source": [
        "# Utils"
      ]
    },
    {
      "cell_type": "code",
      "execution_count": null,
      "metadata": {
        "id": "97XA-GEZmc6s"
      },
      "outputs": [],
      "source": [
        "class LabelEncoder(object):\n",
        "    def __init__(self):\n",
        "        self._targets = [\n",
        "            \"neutral\",\n",
        "            \"joy\",\n",
        "            \"surprise\",\n",
        "            \"anger\",\n",
        "            \"sadness\",\n",
        "            \"disgust\",\n",
        "            \"fear\",\n",
        "        ]\n",
        "        self.num_classes = len(self._targets)\n",
        "\n",
        "    def encode(self, label):\n",
        "        return self._targets.index(label)\n",
        "\n",
        "    def decode(self, label):\n",
        "        return self._targets[label]"
      ]
    },
    {
      "cell_type": "code",
      "execution_count": null,
      "metadata": {
        "id": "aEcqXnYgE4AM"
      },
      "outputs": [],
      "source": [
        "class DataProcessor(object):\n",
        "    def __init__(self, label_encoder):\n",
        "        self._twt_tokenizer = TweetTokenizer(\n",
        "            preserve_case=False, strip_handles=True, reduce_len=True\n",
        "        )\n",
        "        self._lemmatizer = WordNetLemmatizer()\n",
        "        self._label_encoder = label_encoder\n",
        "        self._regex_dict = {\n",
        "            r\"n\\'t\": \" not\",\n",
        "            r\"\\'re\": \" are\",\n",
        "            r\"\\'s\": \" is\",\n",
        "            r\"\\'d\": \" would\",\n",
        "            r\"\\'ll\": \" will\",\n",
        "            r\"\\'ve\": \" have\",\n",
        "            r\"\\'m\": \" am\",\n",
        "            r\"\\'em\": \" them\",\n",
        "            r\"y\\'\": \"you \",\n",
        "            r\" *-+ *\": \" \",\n",
        "            r\"[:\\$-\\'\\\",\\d]\": \"\",\n",
        "        }\n",
        "        self._char_dict = {\n",
        "            \"–\": \"-\",\n",
        "            \"—\": \"-\",\n",
        "            \"“\": '\"',\n",
        "            \"”\": '\"',\n",
        "            \"‘\": \"'\",\n",
        "            \"’\": \"'\",\n",
        "            \"…\": \"...\",\n",
        "        }\n",
        "        self._stop_word = nltk.corpus.stopwords.words(\"english\")\n",
        "\n",
        "    def process(self, data, has_label=False):\n",
        "        data = data.reset_index(drop=True)\n",
        "        data[\"Utterance\"] = data[\"Utterance\"].map(self._process)\n",
        "\n",
        "        if has_label:\n",
        "            data[\"Target\"] = data[\"Target\"].map(self._label_encoder.encode)\n",
        "            data = data.loc[:, [\"Utterance\", \"Target\"]]\n",
        "        else:\n",
        "            data = data.loc[:, \"Utterance\"]\n",
        "            data = data.to_frame()\n",
        "        return data\n",
        "\n",
        "    def _process(self, sentence):\n",
        "        sentence = self.__unify_char(sentence)\n",
        "        tokens = self._twt_tokenizer.tokenize(sentence)\n",
        "        tokens = self.__remove_stop_word(tokens)\n",
        "        tokens = self.__shorten_repeated_tokens(tokens)\n",
        "        tokens = self.__remove_period_only(tokens)\n",
        "        sentence = self.__sub_regex(tokens)\n",
        "        sentence = self.__lemmatize(sentence)\n",
        "        return sentence\n",
        "\n",
        "    def __unify_char(self, sentence):\n",
        "        for char, new in self._char_dict.items():\n",
        "            sentence = sentence.replace(char, new)\n",
        "        return sentence\n",
        "\n",
        "    def __remove_stop_word(self, tokens):\n",
        "        removed = [word for word in tokens if word not in self._stop_word]\n",
        "        return removed\n",
        "\n",
        "    def __shorten_repeated_tokens(self, tokens):\n",
        "        for i, token in enumerate(tokens):\n",
        "            if \"-\" in token:\n",
        "                token = token.split(\"-\")\n",
        "                token = \"-\".join(dict.fromkeys(token))\n",
        "                tokens[i] = token\n",
        "        return tokens\n",
        "\n",
        "    def __remove_period_only(self, tokens):\n",
        "        if \".\" in tokens:\n",
        "            tokens.remove(\".\")\n",
        "        return tokens\n",
        "\n",
        "    def __sub_regex(self, tokens):\n",
        "        sentence = self.__tokens_to_sentence(tokens)\n",
        "        for regex, word in self._regex_dict.items():\n",
        "            sentence = re.sub(regex, word, sentence)\n",
        "        return sentence\n",
        "\n",
        "    def __lemmatize(self, sentence):\n",
        "        tokens = sentence.split()\n",
        "        token_tags = pos_tag(tokens)\n",
        "        for i, token_tag in enumerate(token_tags):\n",
        "            token, tag = token_tag\n",
        "            if tag.startswith(\"VB\"):\n",
        "                tokens[i] = self._lemmatizer.lemmatize(token, pos=\"v\")\n",
        "            elif tag.startswith(\"N\"):\n",
        "                tokens[i] = self._lemmatizer.lemmatize(token, pos=\"n\")\n",
        "        sentence = self.__tokens_to_sentence(tokens)\n",
        "        return sentence\n",
        "\n",
        "    def __tokens_to_sentence(self, tokens):\n",
        "        sentence = \" \".join(tokens)\n",
        "        marks = re.findall(r\"\\s\\W\\s*\", sentence)\n",
        "        for mark in marks:\n",
        "            if mark.strip() == \"'\":\n",
        "                sentence = sentence.replace(mark, mark.strip())\n",
        "            else:\n",
        "                sentence = sentence.replace(mark, mark.lstrip())\n",
        "        return sentence"
      ]
    },
    {
      "cell_type": "code",
      "execution_count": null,
      "metadata": {
        "id": "K1SgoQR6u35N"
      },
      "outputs": [],
      "source": [
        "class RoBERTaDataset(Dataset):\n",
        "    def __init__(\n",
        "        self,\n",
        "        data,\n",
        "        roberta_tokenizer,\n",
        "        max_length=512,\n",
        "        mode=None,\n",
        "    ):\n",
        "        self._roberta_tokenizer = roberta_tokenizer\n",
        "        self._max_length = max_length\n",
        "        self._mode = mode\n",
        "        self._dataset = data\n",
        "\n",
        "    def __len__(self):\n",
        "        return len(self._dataset)\n",
        "\n",
        "    def __getitem__(self, idx):\n",
        "        text = self._dataset.loc[idx, \"Utterance\"]\n",
        "        inputs = self._roberta_tokenizer(\n",
        "            text,\n",
        "            max_length=self._max_length,\n",
        "            padding=\"max_length\",\n",
        "            truncation=True,\n",
        "            return_tensors=\"pt\",\n",
        "        )\n",
        "        input_ids = inputs[\"input_ids\"][0]\n",
        "        attention_mask = inputs[\"attention_mask\"][0]\n",
        "\n",
        "        if self._mode == \"train\":\n",
        "            y = self._dataset.loc[idx, \"Target\"]\n",
        "            return input_ids, attention_mask, y\n",
        "        else:\n",
        "            return input_ids, attention_mask"
      ]
    },
    {
      "cell_type": "code",
      "execution_count": null,
      "metadata": {
        "id": "2zxN5atGQDpz"
      },
      "outputs": [],
      "source": [
        "label_encoder = LabelEncoder()\n",
        "processor = DataProcessor(label_encoder)\n",
        "roberta_tokenizer = RobertaTokenizerFast.from_pretrained(\"roberta-base\")"
      ]
    },
    {
      "cell_type": "code",
      "source": [
        "encoded = label_encoder.encode(\"joy\")\n",
        "\n",
        "print(\"[Encode label]\")\n",
        "print(f\"'joy' ->  {encoded}\")"
      ],
      "metadata": {
        "colab": {
          "base_uri": "https://localhost:8080/"
        },
        "id": "zxH6-xKRpeMT",
        "outputId": "578929f7-c8f1-4e95-ed2f-7e29f2ddaa48"
      },
      "execution_count": null,
      "outputs": [
        {
          "output_type": "stream",
          "name": "stdout",
          "text": [
            "[Encode label]\n",
            "'joy' ->  1\n"
          ]
        }
      ]
    },
    {
      "cell_type": "code",
      "source": [
        "sent1 = \"AAAAAAWWWWWWWW!!!! Y'know.. I had 'em all!\"\n",
        "proc1 = processor._process(sent1)\n",
        "sent2 = \"The “World Cup” is a world festival.\"\n",
        "proc2 = processor._process(sent2)\n",
        "\n",
        "print(\"[Pre-process]\")\n",
        "print(f\"\\n-  {sent1}\")\n",
        "print(f\"-> {proc1}\")\n",
        "print(f\"\\n-  {sent2}\")\n",
        "print(f\"-> {proc2}\")"
      ],
      "metadata": {
        "colab": {
          "base_uri": "https://localhost:8080/"
        },
        "id": "ZK2cLmhAp5a-",
        "outputId": "597a369d-9590-4893-f868-8cbab0f839f4"
      },
      "execution_count": null,
      "outputs": [
        {
          "output_type": "stream",
          "name": "stdout",
          "text": [
            "[Pre-process]\n",
            "\n",
            "-  AAAAAAWWWWWWWW!!!! Y'know.. I had 'em all!\n",
            "-> aaawww!!! you know.. them!\n",
            "\n",
            "-  The “World Cup” is a world festival.\n",
            "-> world cup world festival\n"
          ]
        }
      ]
    },
    {
      "cell_type": "markdown",
      "metadata": {
        "id": "vPDUHfujx2NN"
      },
      "source": [
        "# How to use"
      ]
    },
    {
      "cell_type": "code",
      "execution_count": null,
      "metadata": {
        "colab": {
          "base_uri": "https://localhost:8080/"
        },
        "id": "fFZRDzdWkoTz",
        "outputId": "ca0adaac-9e5d-4da7-e5dc-81333708ded6"
      },
      "outputs": [
        {
          "output_type": "stream",
          "name": "stdout",
          "text": [
            "Train: (7991, 5)\n",
            "Eval: (1998, 5)\n"
          ]
        }
      ],
      "source": [
        "df_train, df_val = train_test_split(train_csv, test_size=0.2, shuffle=True)\n",
        "print(f\"Train: {df_train.shape}\")\n",
        "print(f\"Eval: {df_val.shape}\")"
      ]
    },
    {
      "cell_type": "code",
      "source": [
        "df_train = processor.process(df_train, has_label=True)\n",
        "df_val = processor.process(df_val, has_label=True)\n",
        "\n",
        "train_set = RoBERTaDataset(\n",
        "    df_train,\n",
        "    roberta_tokenizer,\n",
        "    mode=\"train\",\n",
        ")\n",
        "val_set = RoBERTaDataset(\n",
        "    df_val,\n",
        "    roberta_tokenizer,\n",
        "    mode=\"train\",\n",
        ")\n",
        "\n",
        "train_dataloader = DataLoader(train_set, batch_size=8)\n",
        "val_dataloader = DataLoader(val_set, batch_size=8)"
      ],
      "metadata": {
        "id": "IpyxS8iPpgbx"
      },
      "execution_count": null,
      "outputs": []
    }
  ],
  "metadata": {
    "colab": {
      "provenance": [],
      "include_colab_link": true
    },
    "gpuClass": "premium",
    "kernelspec": {
      "display_name": "Python 3",
      "name": "python3"
    },
    "language_info": {
      "name": "python"
    }
  },
  "nbformat": 4,
  "nbformat_minor": 0
}