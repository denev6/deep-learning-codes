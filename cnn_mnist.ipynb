{
  "nbformat": 4,
  "nbformat_minor": 0,
  "metadata": {
    "colab": {
      "provenance": [],
      "machine_shape": "hm",
      "include_colab_link": true
    },
    "kernelspec": {
      "name": "python3",
      "display_name": "Python 3"
    },
    "language_info": {
      "name": "python"
    },
    "accelerator": "GPU",
    "gpuClass": "premium"
  },
  "cells": [
    {
      "cell_type": "markdown",
      "metadata": {
        "id": "view-in-github",
        "colab_type": "text"
      },
      "source": [
        "<a href=\"https://colab.research.google.com/github/Denev6/practice/blob/main/cnn_mnist.ipynb\" target=\"_parent\"><img src=\"https://colab.research.google.com/assets/colab-badge.svg\" alt=\"Open In Colab\"/></a>"
      ]
    },
    {
      "cell_type": "code",
      "source": [
        "!pip install torchsummary"
      ],
      "metadata": {
        "id": "jdI4496Oi5le"
      },
      "execution_count": null,
      "outputs": []
    },
    {
      "cell_type": "markdown",
      "source": [
        "# CNN 살펴보기"
      ],
      "metadata": {
        "id": "1pzHbJmEgB0T"
      }
    },
    {
      "cell_type": "code",
      "execution_count": null,
      "metadata": {
        "id": "Cz95IbIgaQyI"
      },
      "outputs": [],
      "source": [
        "import torch\n",
        "import torch.nn as nn\n",
        "import torch.nn.functional as F\n",
        "import torchvision.datasets as datasets\n",
        "import torchvision.transforms as transforms\n",
        "from torchsummary import summary\n",
        "import matplotlib.pyplot as plt\n",
        "\n",
        "import warnings\n",
        "from google.colab import drive"
      ]
    },
    {
      "cell_type": "code",
      "source": [
        "drive.mount(\"/content/drive\")\n",
        "warnings.filterwarnings(\"ignore\")\n",
        "device = \"cuda\" if torch.cuda.is_available() else \"cpu\"\n",
        "\n",
        "data_path = \"/content/drive/MyDrive/MNIST\"\n",
        "learning_rate = 0.001\n",
        "training_epochs = 5\n",
        "batch_size = 64"
      ],
      "metadata": {
        "id": "0DFNEI_IdzGt",
        "colab": {
          "base_uri": "https://localhost:8080/"
        },
        "outputId": "491f2b2d-b49b-4b60-b3b6-127148b7ee10"
      },
      "execution_count": null,
      "outputs": [
        {
          "output_type": "stream",
          "name": "stdout",
          "text": [
            "Mounted at /content/drive\n"
          ]
        }
      ]
    },
    {
      "cell_type": "markdown",
      "source": [
        "## Dataset"
      ],
      "metadata": {
        "id": "vvrSe1oGcoe2"
      }
    },
    {
      "cell_type": "code",
      "source": [
        "mnist_train = datasets.MNIST(\n",
        "    root=data_path, train=True, transform=transforms.ToTensor(), download=True\n",
        ")\n",
        "\n",
        "mnist_test = datasets.MNIST(\n",
        "    root=data_path, train=False, transform=transforms.ToTensor(), download=True\n",
        ")\n",
        "\n",
        "data_loader = torch.utils.data.DataLoader(\n",
        "    dataset=mnist_train, batch_size=batch_size, shuffle=True\n",
        ")"
      ],
      "metadata": {
        "id": "Jd668LWGd01N"
      },
      "execution_count": null,
      "outputs": []
    },
    {
      "cell_type": "code",
      "source": [
        "print(\"X\", mnist_train.train_data.size())\n",
        "print(\"y\", mnist_train.train_labels.size())"
      ],
      "metadata": {
        "colab": {
          "base_uri": "https://localhost:8080/"
        },
        "id": "FO_wO7yLnvzi",
        "outputId": "e9561c12-036e-4820-e276-b774ae8e5790"
      },
      "execution_count": null,
      "outputs": [
        {
          "output_type": "stream",
          "name": "stdout",
          "text": [
            "X torch.Size([60000, 28, 28])\n",
            "y torch.Size([60000])\n"
          ]
        }
      ]
    },
    {
      "cell_type": "markdown",
      "source": [
        "## CNN"
      ],
      "metadata": {
        "id": "zXM3rNbgcqaK"
      }
    },
    {
      "cell_type": "code",
      "source": [
        "class CNN(nn.Module):\n",
        "    def __init__(self, num_label=10):\n",
        "        super(CNN, self).__init__()\n",
        "        self.conv1 = nn.Sequential(\n",
        "            nn.Conv2d(1, 16, kernel_size=3),\n",
        "            nn.ReLU(),\n",
        "            nn.MaxPool2d(kernel_size=2, stride=2, padding=1)\n",
        "            #       Input =  (-1,  1, 28, 28)\n",
        "            # Conv + ReLU -> (-1, 16, 26, 26)\n",
        "            #        Pool -> (-1, 16, 14, 14)\n",
        "        )\n",
        "\n",
        "        self.conv2 = nn.Sequential(\n",
        "            nn.Conv2d(16, 32, kernel_size=3),\n",
        "            nn.ReLU(),\n",
        "            nn.MaxPool2d(kernel_size=2, stride=2, padding=1)\n",
        "            #       Input =  (-1, 16, 14, 14)\n",
        "            # Conv + ReLU -> (-1, 32, 12, 12)\n",
        "            #        Pool -> (-1, 32,  7,  7)\n",
        "        )\n",
        "\n",
        "        self.classifier = nn.Sequential(\n",
        "            nn.Flatten(1, -1),\n",
        "            nn.Linear(7 * 7 * 32, 32),\n",
        "            nn.ReLU(),\n",
        "            nn.Dropout(p=0.3),\n",
        "            nn.Linear(32, num_label)\n",
        "            #          Input =  (-1, 32, 7, 7)\n",
        "            #        Flatten -> (-1,     1568)\n",
        "            #         Linear -> (-1,       32)\n",
        "            # ReLU + Dropout -> (-1,       32)\n",
        "            #         Output -> (-1,       10)\n",
        "        )\n",
        "\n",
        "    def forward(self, x, get_features=False):\n",
        "        if get_features:\n",
        "            # 내부 학습 과정 확인\n",
        "            features = list()\n",
        "            out = self.conv1(x)\n",
        "            features.append(out[0])\n",
        "            out = self.conv2(out)\n",
        "            features.append(out[0])\n",
        "            out = self.classifier(out)\n",
        "            features.append(out[0])\n",
        "            return features\n",
        "        else:\n",
        "            # 일반적인 학습 과정\n",
        "            out = self.conv1(x)\n",
        "            out = self.conv2(out)\n",
        "            out = self.classifier(out)\n",
        "            return out"
      ],
      "metadata": {
        "id": "5XYPmif7d22I"
      },
      "execution_count": null,
      "outputs": []
    },
    {
      "cell_type": "code",
      "source": [
        "model = CNN()\n",
        "model.to(device)"
      ],
      "metadata": {
        "colab": {
          "base_uri": "https://localhost:8080/"
        },
        "id": "1w2Z9EPEdKgX",
        "outputId": "694385ac-87ca-4236-e9cd-ed04763a2b86"
      },
      "execution_count": null,
      "outputs": [
        {
          "output_type": "execute_result",
          "data": {
            "text/plain": [
              "CNN(\n",
              "  (conv1): Sequential(\n",
              "    (0): Conv2d(1, 16, kernel_size=(3, 3), stride=(1, 1))\n",
              "    (1): ReLU()\n",
              "    (2): MaxPool2d(kernel_size=2, stride=2, padding=1, dilation=1, ceil_mode=False)\n",
              "  )\n",
              "  (conv2): Sequential(\n",
              "    (0): Conv2d(16, 32, kernel_size=(3, 3), stride=(1, 1))\n",
              "    (1): ReLU()\n",
              "    (2): MaxPool2d(kernel_size=2, stride=2, padding=1, dilation=1, ceil_mode=False)\n",
              "  )\n",
              "  (classifier): Sequential(\n",
              "    (0): Flatten(start_dim=1, end_dim=-1)\n",
              "    (1): Linear(in_features=1568, out_features=32, bias=True)\n",
              "    (2): ReLU()\n",
              "    (3): Dropout(p=0.3, inplace=False)\n",
              "    (4): Linear(in_features=32, out_features=10, bias=True)\n",
              "  )\n",
              ")"
            ]
          },
          "metadata": {},
          "execution_count": 7
        }
      ]
    },
    {
      "cell_type": "code",
      "source": [
        "summary(model, (1, 28, 28))"
      ],
      "metadata": {
        "colab": {
          "base_uri": "https://localhost:8080/"
        },
        "id": "QYajyWP5dMU0",
        "outputId": "46fc1e1e-7221-436d-91fc-b7322632ddca"
      },
      "execution_count": null,
      "outputs": [
        {
          "output_type": "stream",
          "name": "stdout",
          "text": [
            "----------------------------------------------------------------\n",
            "        Layer (type)               Output Shape         Param #\n",
            "================================================================\n",
            "            Conv2d-1           [-1, 16, 26, 26]             160\n",
            "              ReLU-2           [-1, 16, 26, 26]               0\n",
            "         MaxPool2d-3           [-1, 16, 14, 14]               0\n",
            "            Conv2d-4           [-1, 32, 12, 12]           4,640\n",
            "              ReLU-5           [-1, 32, 12, 12]               0\n",
            "         MaxPool2d-6             [-1, 32, 7, 7]               0\n",
            "           Flatten-7                 [-1, 1568]               0\n",
            "            Linear-8                   [-1, 32]          50,208\n",
            "              ReLU-9                   [-1, 32]               0\n",
            "          Dropout-10                   [-1, 32]               0\n",
            "           Linear-11                   [-1, 10]             330\n",
            "================================================================\n",
            "Total params: 55,338\n",
            "Trainable params: 55,338\n",
            "Non-trainable params: 0\n",
            "----------------------------------------------------------------\n",
            "Input size (MB): 0.00\n",
            "Forward/backward pass size (MB): 0.28\n",
            "Params size (MB): 0.21\n",
            "Estimated Total Size (MB): 0.50\n",
            "----------------------------------------------------------------\n"
          ]
        }
      ]
    },
    {
      "cell_type": "markdown",
      "source": [
        "## Train"
      ],
      "metadata": {
        "id": "p3XVnERqctDE"
      }
    },
    {
      "cell_type": "code",
      "source": [
        "criterion = torch.nn.CrossEntropyLoss()\n",
        "optimizer = torch.optim.Adam(model.parameters(), lr=learning_rate)\n",
        "\n",
        "criterion.to(device)"
      ],
      "metadata": {
        "id": "kmlLlfOVd5GR"
      },
      "execution_count": null,
      "outputs": []
    },
    {
      "cell_type": "code",
      "source": [
        "for epoch in range(1, training_epochs + 1):\n",
        "    train_loss = 0\n",
        "    model.train()\n",
        "    for X, y in data_loader:\n",
        "        X = X.to(device)\n",
        "        y = y.to(device)\n",
        "\n",
        "        pred = model(X)\n",
        "        loss = criterion(pred, y)\n",
        "\n",
        "        loss.backward()\n",
        "        optimizer.step()\n",
        "        optimizer.zero_grad()\n",
        "\n",
        "        train_loss += loss\n",
        "\n",
        "    train_loss /= len(data_loader)\n",
        "\n",
        "    print(f\"Epoch: {epoch}, Train Loss: {train_loss:.5f}\")"
      ],
      "metadata": {
        "colab": {
          "base_uri": "https://localhost:8080/"
        },
        "id": "A3HcuulgZQHf",
        "outputId": "6cae3909-f98a-4cb8-ebe9-d9c298814b4d"
      },
      "execution_count": null,
      "outputs": [
        {
          "output_type": "stream",
          "name": "stdout",
          "text": [
            "Epoch: 1, Train Loss: 0.58110\n",
            "Epoch: 2, Train Loss: 0.26693\n",
            "Epoch: 3, Train Loss: 0.20551\n",
            "Epoch: 4, Train Loss: 0.17610\n",
            "Epoch: 5, Train Loss: 0.16163\n"
          ]
        }
      ]
    },
    {
      "cell_type": "markdown",
      "source": [
        "## Test"
      ],
      "metadata": {
        "id": "j3ksFZAtcvS8"
      }
    },
    {
      "cell_type": "code",
      "source": [
        "with torch.no_grad():\n",
        "    model.eval()\n",
        "    test_set = mnist_test.test_data.view(len(mnist_test), 1, 28, 28).float().to(device)\n",
        "    labels = mnist_test.test_labels.to(device)\n",
        "\n",
        "    pred = model(test_set)\n",
        "    correct = pred.argmax(-1) == labels\n",
        "    accuracy = correct.float().mean()\n",
        "    print(f\"Accuracy: {accuracy.item():.5f}\")"
      ],
      "metadata": {
        "colab": {
          "base_uri": "https://localhost:8080/"
        },
        "id": "vBY1dUR9ZSNe",
        "outputId": "d04bcede-d074-4ca3-c85b-ea8854789856"
      },
      "execution_count": null,
      "outputs": [
        {
          "output_type": "stream",
          "name": "stdout",
          "text": [
            "Accuracy: 0.97910\n"
          ]
        }
      ]
    },
    {
      "cell_type": "code",
      "source": [
        "torch.save(model.state_dict(), \"/content/drive/MyDrive/MNIST/cnn.pth\")"
      ],
      "metadata": {
        "id": "qBAtRInId630"
      },
      "execution_count": null,
      "outputs": []
    },
    {
      "cell_type": "markdown",
      "source": [
        "## Features"
      ],
      "metadata": {
        "id": "96ZKIq5Bcxoi"
      }
    },
    {
      "cell_type": "code",
      "source": [
        "model.eval()\n",
        "images, labels = next(iter(data_loader))\n",
        "feat1, feat2, logits = model(images.to(device), get_features=True)"
      ],
      "metadata": {
        "id": "CNE6gYEWd9MB"
      },
      "execution_count": null,
      "outputs": []
    },
    {
      "cell_type": "code",
      "source": [
        "plt.imshow(images[0].reshape(28, 28), cmap=\"gray\")\n",
        "plt.show()"
      ],
      "metadata": {
        "colab": {
          "base_uri": "https://localhost:8080/",
          "height": 265
        },
        "id": "Zvvrl1JJvY__",
        "outputId": "6f5e2e5a-6422-4487-a608-73ba7438f914"
      },
      "execution_count": null,
      "outputs": [
        {
          "output_type": "display_data",
          "data": {
            "text/plain": [
              "<Figure size 432x288 with 1 Axes>"
            ],
            "image/png": "[encoded data removed]"
          },
          "metadata": {
            "needs_background": "light"
          }
        }
      ]
    },
    {
      "cell_type": "code",
      "source": [
        "feat1.size()"
      ],
      "metadata": {
        "colab": {
          "base_uri": "https://localhost:8080/"
        },
        "id": "hHPaniXpVdoZ",
        "outputId": "fb36d7f4-2d9b-4c44-d37f-c81cce90c3ee"
      },
      "execution_count": null,
      "outputs": [
        {
          "output_type": "execute_result",
          "data": {
            "text/plain": [
              "torch.Size([16, 14, 14])"
            ]
          },
          "metadata": {},
          "execution_count": 15
        }
      ]
    },
    {
      "cell_type": "code",
      "source": [
        "feat1 = feat1.detach().cpu().numpy()\n",
        "\n",
        "plt.figure(figsize=(6, 6))\n",
        "for i in range(16):\n",
        "    plt.subplot(4, 4, i + 1)\n",
        "    plt.imshow(feat1[i].reshape(14, 14))\n",
        "    plt.xticks([])\n",
        "    plt.yticks([])\n",
        "plt.show()"
      ],
      "metadata": {
        "colab": {
          "base_uri": "https://localhost:8080/",
          "height": 361
        },
        "id": "dd49nBaVVn-Z",
        "outputId": "06bbc4cd-b613-4d5d-fc4c-8b7a7bda6235"
      },
      "execution_count": null,
      "outputs": [
        {
          "output_type": "display_data",
          "data": {
            "text/plain": [
              "<Figure size 432x432 with 16 Axes>"
            ],
            "image/png": "[encoded data removed]"
          },
          "metadata": {}
        }
      ]
    },
    {
      "cell_type": "code",
      "source": [
        "feat2.size()"
      ],
      "metadata": {
        "colab": {
          "base_uri": "https://localhost:8080/"
        },
        "id": "Cu5i9jfMVgag",
        "outputId": "077d07ab-453d-4b3a-95fb-13ad70f33dac"
      },
      "execution_count": null,
      "outputs": [
        {
          "output_type": "execute_result",
          "data": {
            "text/plain": [
              "torch.Size([32, 7, 7])"
            ]
          },
          "metadata": {},
          "execution_count": 17
        }
      ]
    },
    {
      "cell_type": "code",
      "source": [
        "feat2 = feat2.detach().cpu().numpy()\n",
        "\n",
        "plt.figure(figsize=(8, 4))\n",
        "for i in range(32):\n",
        "    plt.subplot(4, 8, i + 1)\n",
        "    plt.imshow(feat2[i].reshape(7, 7))\n",
        "    plt.xticks([])\n",
        "    plt.yticks([])\n",
        "plt.show()"
      ],
      "metadata": {
        "colab": {
          "base_uri": "https://localhost:8080/",
          "height": 252
        },
        "id": "aP_C1B9tWaGY",
        "outputId": "fab6d29e-7dab-4e31-fcf1-79b1c60cb1ef"
      },
      "execution_count": null,
      "outputs": [
        {
          "output_type": "display_data",
          "data": {
            "text/plain": [
              "<Figure size 576x288 with 32 Axes>"
            ],
            "image/png": "[encoded data removed]"
          },
          "metadata": {}
        }
      ]
    },
    {
      "cell_type": "code",
      "source": [
        "logits.size()"
      ],
      "metadata": {
        "colab": {
          "base_uri": "https://localhost:8080/"
        },
        "id": "IUsMptwEVjaK",
        "outputId": "68081df9-307b-4757-8f60-e509e9e117ce"
      },
      "execution_count": null,
      "outputs": [
        {
          "output_type": "execute_result",
          "data": {
            "text/plain": [
              "torch.Size([10])"
            ]
          },
          "metadata": {},
          "execution_count": 19
        }
      ]
    },
    {
      "cell_type": "code",
      "source": [
        "probs = F.softmax(logits)\n",
        "pred = probs.argmax(-1)\n",
        "\n",
        "print(\n",
        "    \"Logits:\",\n",
        "    \", \".join(map(lambda x: f\"{x:.3f}\", logits.detach().cpu().numpy().tolist())),\n",
        ")\n",
        "print(\n",
        "    \" Probs: \",\n",
        "    \", \".join(map(lambda x: f\"{x:.3f}\", probs.detach().cpu().numpy().tolist())),\n",
        ")\n",
        "print(\"  Pred: \", pred.detach().cpu().numpy().tolist())\n",
        "print(\"  True: \", labels[0].numpy().tolist())"
      ],
      "metadata": {
        "colab": {
          "base_uri": "https://localhost:8080/"
        },
        "id": "U-mptcLVXHnw",
        "outputId": "7254c50b-0881-4cc7-c15c-fbb61d04720d"
      },
      "execution_count": null,
      "outputs": [
        {
          "output_type": "stream",
          "name": "stdout",
          "text": [
            "Logits: -7.427, 8.698, 0.407, -4.990, -4.264, -3.783, -4.286, -3.159, -2.024, -4.415\n",
            " Probs:  0.000, 1.000, 0.000, 0.000, 0.000, 0.000, 0.000, 0.000, 0.000, 0.000\n",
            "  Pred:  1\n",
            "  True:  1\n"
          ]
        }
      ]
    },
    {
      "cell_type": "markdown",
      "source": [
        "## Filters"
      ],
      "metadata": {
        "id": "NT2Pxh4tdsfp"
      }
    },
    {
      "cell_type": "code",
      "source": [
        "filters = model.conv1[0].weight.data\n",
        "print(filters.size())\n",
        "filters = filters[:, 0, :, :].detach().cpu().numpy()\n",
        "\n",
        "plt.figure(figsize=(6, 6))\n",
        "for i in range(16):\n",
        "    plt.subplot(4, 4, i + 1)\n",
        "    plt.imshow(filters[i], cmap=\"gray\")\n",
        "    plt.xticks([])\n",
        "    plt.yticks([])\n",
        "plt.show()"
      ],
      "metadata": {
        "colab": {
          "base_uri": "https://localhost:8080/",
          "height": 378
        },
        "id": "n8I6_0lYvOTZ",
        "outputId": "61aa3acb-a1fe-44b7-def0-e39febdf6f91"
      },
      "execution_count": null,
      "outputs": [
        {
          "output_type": "stream",
          "name": "stdout",
          "text": [
            "torch.Size([16, 1, 3, 3])\n"
          ]
        },
        {
          "output_type": "display_data",
          "data": {
            "text/plain": [
              "<Figure size 432x432 with 16 Axes>"
            ],
            "image/png": "[encoded data removed]"
          },
          "metadata": {}
        }
      ]
    },
    {
      "cell_type": "code",
      "source": [
        "filters = model.conv2[0].weight.data\n",
        "print(filters.size())\n",
        "filters = filters[:, 0, :, :].detach().cpu().numpy()\n",
        "\n",
        "plt.figure(figsize=(8, 4))\n",
        "for i in range(32):\n",
        "    plt.subplot(4, 8, i + 1)\n",
        "    plt.imshow(filters[i], cmap=\"gray\")\n",
        "    plt.xticks([])\n",
        "    plt.yticks([])\n",
        "plt.show()"
      ],
      "metadata": {
        "colab": {
          "base_uri": "https://localhost:8080/",
          "height": 269
        },
        "id": "2Xv7QRPD6W_u",
        "outputId": "73e2e7e4-bbef-44c8-a9f5-abbcd912b7e7"
      },
      "execution_count": null,
      "outputs": [
        {
          "output_type": "stream",
          "name": "stdout",
          "text": [
            "torch.Size([32, 16, 3, 3])\n"
          ]
        },
        {
          "output_type": "display_data",
          "data": {
            "text/plain": [
              "<Figure size 576x288 with 32 Axes>"
            ],
            "image/png": "[encoded data removed]"
          },
          "metadata": {}
        }
      ]
    }
  ]
}